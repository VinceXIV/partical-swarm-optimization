{
 "cells": [
  {
   "cell_type": "code",
   "execution_count": 1,
   "id": "e76a0360",
   "metadata": {},
   "outputs": [],
   "source": [
    "import numpy as np\n",
    "import pandas as pd\n",
    "import random\n",
    "import scipy.stats as stats\n",
    "import matplotlib.pyplot as plt\n",
    "import copy\n",
    "import sys\n",
    "import sympy"
   ]
  },
  {
   "cell_type": "code",
   "execution_count": 2,
   "id": "8e362720",
   "metadata": {},
   "outputs": [],
   "source": [
    "def getVariableMatrices(variableNames, variableDf):\n",
    "    independentVariableMat = []\n",
    "    dependentVariableMat = []\n",
    "    \n",
    "    dependentVariable = variableNames[0]\n",
    "    for variable in variableNames:\n",
    "        if variable == dependentVariable:\n",
    "            continue\n",
    "        \n",
    "        independentVariableMat.append(variableDf[variable])\n",
    "        \n",
    "    independentVariableMat = pd.DataFrame(independentVariableMat).to_numpy().reshape(len(variableNames)-1, len(variableDf))\n",
    "    dependentVariableMat = variableDf[dependentVariable].to_numpy().reshape(len(variableDf), 1)\n",
    "    \n",
    "    return (dependentVariableMat, independentVariableMat)"
   ]
  },
  {
   "cell_type": "code",
   "execution_count": 3,
   "id": "b611df3e",
   "metadata": {},
   "outputs": [],
   "source": [
    "def modifyVariables(modelVariables, variableDf):\n",
    "    \n",
    "    modifiedModelVariables = copy.deepcopy(modelVariables)\n",
    "    \n",
    "    for currIndex in range(len(modifiedModelVariables)):\n",
    "        \n",
    "        #skip the dependent variable\n",
    "        if currIndex == 0:\n",
    "            continue\n",
    "        \n",
    "        item = modifiedModelVariables[currIndex]\n",
    "        variable = item[0]\n",
    "        power = item[1]\n",
    "        \n",
    "        if power == 1:\n",
    "            newVariable = variable\n",
    "            modifiedModelVariables[currIndex] = newVariable            \n",
    "        \n",
    "        elif power > 1:\n",
    "            newVariable = variable + \"^\" + str(power)\n",
    "            variableDf[newVariable] = variableDf[variable]**power\n",
    "            modifiedModelVariables[currIndex] = newVariable\n",
    "            \n",
    "    return modifiedModelVariables"
   ]
  },
  {
   "cell_type": "code",
   "execution_count": 4,
   "id": "15524ac8",
   "metadata": {},
   "outputs": [],
   "source": [
    "def estimateBeta(dependentVariable, independentVariable, variableDf):\n",
    "    \n",
    "    dependentVariableMin = variableDf[dependentVariable].min()\n",
    "    dependentVariableMax = variableDf[dependentVariable].max()\n",
    "    \n",
    "    independentVariableMin = variableDf[independentVariable].min()\n",
    "    independentVariableMax = variableDf[independentVariable].max()\n",
    "    correlation = variableDf[dependentVariable].corr(variableDf[independentVariable])\n",
    "    \n",
    "    # Naive estimation of effect of this feature on the dependent variable\n",
    "    naiveEstimate = (dependentVariableMax - dependentVariableMin)/(independentVariableMax - independentVariableMin)\n",
    "    if(correlation < 0):\n",
    "        naiveEstimate = naiveEstimate * -1\n",
    "    \n",
    "    # Add some randomness to the naive estimate\n",
    "    independentVariableMean = variableDf[independentVariable].mean()\n",
    "    independentVariableStdDev = variableDf[independentVariable].std()\n",
    "    randomVal = independentVariableMean + stats.norm.ppf(random.uniform(0, 1))*independentVariableStdDev\n",
    "    \n",
    "    naiveEstimate = naiveEstimate*(randomVal/independentVariableMean)\n",
    "    \n",
    "    return naiveEstimate"
   ]
  },
  {
   "cell_type": "code",
   "execution_count": 5,
   "id": "eeea44f1",
   "metadata": {},
   "outputs": [],
   "source": [
    "def estimateAlpha(betaEstimates, modelVariables, variableDf):\n",
    "    \n",
    "    independentVariable = modelVariables[0]\n",
    "    independentVariableMean = variableDf[independentVariable].mean()\n",
    "    \n",
    "    estimatedAlphas = []\n",
    "    for i in range(len(modelVariables)):\n",
    "        variable = modelVariables[i]\n",
    "        if variable == independentVariable:\n",
    "            continue\n",
    "        \n",
    "        estimateMean = betaEstimates[i-1]*variableDf[variable].mean()\n",
    "        estimatedAlpha = independentVariableMean - estimateMean\n",
    "        \n",
    "        \n",
    "        estimatedAlphas.append(estimatedAlpha)\n",
    "        \n",
    "    return sum(estimatedAlphas)/len(estimatedAlphas)"
   ]
  },
  {
   "cell_type": "markdown",
   "id": "4d0413a5",
   "metadata": {},
   "source": [
    "\n",
    "\n",
    "# PARTICLE SWARM OPTIMIZATION"
   ]
  },
  {
   "cell_type": "code",
   "execution_count": 6,
   "id": "5fdfea31",
   "metadata": {},
   "outputs": [],
   "source": [
    "def getFitness(location, dependentVariableMatrix, independentVariableMatrix):\n",
    "    alphaCoeff = copy.deepcopy(location[0])\n",
    "    betaCoeffs = copy.deepcopy(np.array(location[1:]))\n",
    "\n",
    "    predictions = alphaCoeff + betaCoeffs.dot(independentVariableMatrix)\n",
    "    predictions = predictions.reshape(len(predictions), 1)\n",
    "    \n",
    "    squaredDifference = (dependentVariableMatrix - predictions)**2\n",
    "    squaredDifference = squaredDifference.reshape(len(squaredDifference), 1)\n",
    "    \n",
    "    sumOfSquaredDifference = float(sum(squaredDifference))\n",
    "    \n",
    "    return 1/sumOfSquaredDifference"
   ]
  },
  {
   "cell_type": "code",
   "execution_count": 7,
   "id": "ee35a48f",
   "metadata": {},
   "outputs": [],
   "source": [
    "def getInitialSwarmLocation(swarmSize, modelVariables, variableDf, dependentVariableMatrix, independentVariableMatrix):\n",
    "    swarmEstimatedLocations = {}\n",
    "        \n",
    "    dependentVariable = modelVariables[0]\n",
    "    dependentVariableMin = variableDf[dependentVariable].min()\n",
    "    dependentVariableMax = variableDf[dependentVariable].max()\n",
    "    \n",
    "    \n",
    "    for particle in range(swarmSize):\n",
    "        swarmEstimatedLocations[particle] = {}\n",
    "        \n",
    "        betaEstimates = []\n",
    "        for variable in modelVariables:\n",
    "            if variable == dependentVariable:\n",
    "                continue\n",
    "                  \n",
    "            betaEstimate = estimateBeta(dependentVariable, variable, variableDf)\n",
    "            \n",
    "            betaEstimates.append(betaEstimate)\n",
    "                    \n",
    "        alphaEstimate = estimateAlpha(betaEstimates, modelVariables, variableDf)\n",
    "        betaEstimates.insert(0, alphaEstimate)        \n",
    "        \n",
    "        swarmEstimatedLocations[particle][\"Location\"] = betaEstimates\n",
    "        swarmEstimatedLocations[particle][\"Personal Best\"] = betaEstimates\n",
    "        swarmEstimatedLocations[particle][\"Velocity\"] = np.zeros(shape = (len(betaEstimates)))\n",
    "        swarmEstimatedLocations[particle][\"Fitness\"] = float(getFitness(betaEstimates, dependentVariableMatrix, independentVariableMatrix))\n",
    "        \n",
    "    return swarmEstimatedLocations"
   ]
  },
  {
   "cell_type": "code",
   "execution_count": 8,
   "id": "04c3b506",
   "metadata": {},
   "outputs": [],
   "source": [
    "def getInitialGlobalBest(swarm):\n",
    "    \n",
    "    globalBest = {}\n",
    "    \n",
    "    globalBest['Fitness'] = sys.float_info.min\n",
    "    \n",
    "    for particle in swarm:\n",
    "        personalBestFitness = swarm[particle]['Fitness']\n",
    "        particleLocation = swarm[particle]['Location']\n",
    "        \n",
    "        if(personalBestFitness > globalBest['Fitness']):\n",
    "            globalBest[\"Fitness\"] = copy.deepcopy(personalBestFitness)\n",
    "            globalBest[\"Location\"] =  copy.deepcopy(particleLocation)\n",
    "            \n",
    "    return globalBest"
   ]
  },
  {
   "cell_type": "code",
   "execution_count": 9,
   "id": "274ce522",
   "metadata": {},
   "outputs": [],
   "source": [
    "def getVelocity(particle, globalBest, w, c1, c2):\n",
    "    particleLocation = copy.deepcopy(particle['Location'])\n",
    "    particlePersonalBest = copy.deepcopy(particle['Personal Best'])\n",
    "    particleFitness = copy.deepcopy(particle['Fitness'])\n",
    "    particleVelocity = copy.deepcopy(particle['Velocity'])\n",
    "    \n",
    "    globalBestFitness = copy.deepcopy(globalBest['Fitness'] ) \n",
    "    globalBestLocation = copy.deepcopy(globalBest['Location'])\n",
    "        \n",
    "    distanceToPersonalBest = np.asarray(particlePersonalBest) - np.asarray(particleLocation)\n",
    "    distanceToGlobalBest = np.asarray(globalBestLocation) - np.asarray(particleLocation)\n",
    "    \n",
    "    newVelocity = w*particleVelocity  +  distanceToPersonalBest*random.uniform(0, 1)*c1  +  distanceToGlobalBest*random.uniform(0, 1)*c2\n",
    "    \n",
    "    return newVelocity "
   ]
  },
  {
   "cell_type": "code",
   "execution_count": 10,
   "id": "d3d680b9",
   "metadata": {},
   "outputs": [],
   "source": [
    "def updatePersonalDetails(particle, velocity, proposedLocation, proposedLocationFitness):  \n",
    "    particle['Location'] = proposedLocation\n",
    "    particle['Personal Best'] = proposedLocation        \n",
    "    particle['Fitness'] = proposedLocationFitness\n",
    "    particle['Velocity'] = velocity\n",
    "\n",
    "\n",
    "\n",
    "def updateGlobalDetails(particle, globalBest):\n",
    "    particleLocation = copy.deepcopy(particle['Location'])\n",
    "    particleFitness = copy.deepcopy(particle['Fitness'])\n",
    "    globalBestFitness = copy.deepcopy(globalBest['Fitness'])\n",
    "    globalBestLocation = copy.deepcopy(globalBest['Location'])\n",
    "    \n",
    "    if(particleFitness > globalBestFitness):\n",
    "        globalBest['Location'] = particle['Location']\n",
    "        globalBest['Fitness'] = particle['Fitness']     \n",
    "        \n",
    "        \n",
    "\n",
    "\n",
    "def updateItems(particle, globalBest, w, c1, c2, dependentVariableMatrix, independentVariableMatrix):\n",
    "    \n",
    "    velocity = getVelocity(particle, globalBest, w, c1, c2)\n",
    "    proposedLocation = particle['Location'] + velocity    \n",
    "    proposedLocationFitness = getFitness(proposedLocation, dependentVariableMatrix, independentVariableMatrix)\n",
    "    \n",
    "    \n",
    "    if (proposedLocationFitness > particle['Fitness']):\n",
    "        updatePersonalDetails(particle, velocity, proposedLocation, proposedLocationFitness)\n",
    "        updateGlobalDetails(particle, globalBest)   \n",
    "        \n",
    "    else:\n",
    "        # Allow 'bad' move if the move is extremely likely with some randomness\n",
    "        if (proposedLocationFitness/particle['Fitness'] > random.uniform(0, 1)):\n",
    "              updatePersonalDetails(particle, velocity, proposedLocation, proposedLocationFitness)\n",
    "              updateGlobalDetails(particle, globalBest)              \n",
    "          \n",
    "    return \n"
   ]
  },
  {
   "cell_type": "code",
   "execution_count": 11,
   "id": "94119e8b",
   "metadata": {},
   "outputs": [],
   "source": [
    "def allParticlesAreAtGlobalOptimum(swarm, globalBest):\n",
    "    \n",
    "    dimensionsInLocation = len(swarm[0]['Location'])\n",
    "    \n",
    "    for particle in swarm:\n",
    "        if(swarm[particle]['Fitness'] == globalBest['Fitness']):\n",
    "            return False\n",
    "        \n",
    "    return True"
   ]
  },
  {
   "cell_type": "code",
   "execution_count": 12,
   "id": "8c48ed63",
   "metadata": {},
   "outputs": [],
   "source": [
    "def updateParticleFitnessHistory(swarm, particleFitnessHistory):\n",
    "    if len(particleFitnessHistory) == 0:\n",
    "        for particle in swarm:\n",
    "            particleFitnessHistory[particle] = []\n",
    "            particleFitnessHistory[particle].append(1/swarm[particle]['Fitness'])\n",
    "            \n",
    "    else:\n",
    "        for particle in swarm:\n",
    "            particleFitnessHistory[particle].append(1/swarm[particle]['Fitness'])\n",
    "        \n",
    "    return\n",
    "\n",
    "\n",
    "\n",
    "def updateParticleLocationHistory(swarm, particleLocationHistory, variableNames):\n",
    "    if len(particleLocationHistory) == 0:\n",
    "        for particle in swarm:\n",
    "            particleLocationHistory[particle] = {}\n",
    "            \n",
    "            for i in range(len(variableNames)):\n",
    "                variable = variableNames[i]\n",
    "                \n",
    "                particleLocationHistory[particle][variable] = []\n",
    "                particleLocationHistory[particle][variable].append(swarm[particle]['Location'][i])\n",
    "                \n",
    "    else:\n",
    "        for particle in swarm:\n",
    "            for i in range(len(variableNames)):\n",
    "                variable = variableNames[i]\n",
    "                particleLocationHistory[particle][variable].append(swarm[particle]['Location'][i])\n",
    "                \n",
    "    return\n",
    "\n",
    "\n",
    "def updateGlobalFitnessHistory(gBest, globalFitnessHistory):\n",
    "    if len(globalFitnessHistory) == 0:\n",
    "        globalFitnessHistory['SS Residuals'] = []\n",
    "        globalFitnessHistory['SS Residuals'].append(1/gBest['Fitness'])\n",
    "        \n",
    "    else:\n",
    "        globalFitnessHistory['SS Residuals'].append(1/gBest['Fitness'])\n",
    "        \n",
    "    return"
   ]
  },
  {
   "cell_type": "code",
   "execution_count": 13,
   "id": "09e01773",
   "metadata": {},
   "outputs": [],
   "source": [
    "modelVariables = [\"CO2 emissions (kt)\", (\"GDP growth\", 1), (\"GDP growth\", 2)]\n",
    "variableDf = pd.read_excel(\"./Sample Data.xlsx\")"
   ]
  },
  {
   "cell_type": "code",
   "execution_count": 14,
   "id": "7625c8e5",
   "metadata": {},
   "outputs": [],
   "source": [
    "def predict(modelVariables, variableDf, w, c1, c2, noOfParticles, actualSSResiduals = -1):\n",
    "    variableNames = modifyVariables(modelVariables, variableDf)\n",
    "    dependentVariableMatrix, independentVariableMatrix = getVariableMatrices(variableNames, variableDf)\n",
    "    \n",
    "    \n",
    "    swarm = getInitialSwarmLocation(noOfParticles, variableNames, variableDf, dependentVariableMatrix, independentVariableMatrix)\n",
    "    gBest = getInitialGlobalBest(swarm)\n",
    "    \n",
    "    \n",
    "    globalFitnessHistory = {}\n",
    "    particleFitnessHistory = {}\n",
    "    particleLocationHistory = {}\n",
    "    noOfIterations = 1\n",
    "\n",
    "    while True:\n",
    "        for particle in swarm:\n",
    "            updateParticleFitnessHistory(swarm, particleFitnessHistory)\n",
    "            updateParticleLocationHistory(swarm, particleLocationHistory, variableNames)\n",
    "            updateGlobalFitnessHistory(gBest, globalFitnessHistory)\n",
    "            updateItems(swarm[particle], gBest, w, c1, c2, dependentVariableMatrix, independentVariableMatrix)\n",
    "            \n",
    "        \n",
    "        # if the Best Sum of Squared Error is Provided\n",
    "        if (actualSSResiduals >= 0):\n",
    "            testVal = float(1/gBest['Fitness'])/actualSSResiduals\n",
    "\n",
    "            if (testVal <= 1.001 and testVal >= 0.999):\n",
    "                break\n",
    "                \n",
    "        # If the Actual Sum of Squared Error is not Provided      \n",
    "        if (actualSSResiduals == -1):\n",
    "            if allParticlesAreAtGlobalOptimum(swarm, gBest) == True:\n",
    "                break\n",
    "                \n",
    "        noOfIterations = noOfIterations + 1\n",
    "    \n",
    "    result = {}\n",
    "    result[\"Particle Fitness History\"] = particleFitnessHistory\n",
    "    result['Particle Location History'] = particleLocationHistory\n",
    "    result['No of Iterations'] = noOfIterations\n",
    "    result['Global Fitness History'] = globalFitnessHistory\n",
    "    result['Global Best Location'] = gBest['Location']\n",
    "    result['Global Best Fitness'] = gBest['Fitness']\n",
    "    \n",
    "    return result"
   ]
  },
  {
   "cell_type": "code",
   "execution_count": 15,
   "id": "26bc4e27",
   "metadata": {},
   "outputs": [],
   "source": [
    "# Fitting Polynomial Regression to the dataset\n",
    "\n",
    "from sklearn.preprocessing import PolynomialFeatures\n",
    "from sklearn.linear_model import LinearRegression\n",
    "\n",
    "X = np.array(variableDf[modelVariables[1][0]]).reshape(-1, 1)\n",
    "y = np.array(variableDf[modelVariables[0]]).reshape(-1, 1)\n",
    "\n",
    "poly = PolynomialFeatures(include_bias = True, degree = 2)\n",
    "X_poly = poly.fit_transform(X)\n",
    "\n",
    "poly.fit(X_poly, y)\n",
    "lin = LinearRegression()\n",
    "lin.fit(X_poly, y)\n",
    "\n",
    "actualSolution = lin.coef_\n",
    "actualSolution[0][0] = lin.intercept_\n",
    "actualSolution = actualSolution[0]"
   ]
  },
  {
   "cell_type": "code",
   "execution_count": 16,
   "id": "036bb42d",
   "metadata": {},
   "outputs": [
    {
     "data": {
      "text/plain": [
       "array([264306.31183149,  29693.09592485,  -7001.06719004])"
      ]
     },
     "execution_count": 16,
     "metadata": {},
     "output_type": "execute_result"
    }
   ],
   "source": [
    "actualSolution"
   ]
  },
  {
   "cell_type": "markdown",
   "id": "ea0e4968",
   "metadata": {},
   "source": [
    "## Testing for the Effect of Swarm Size"
   ]
  },
  {
   "cell_type": "code",
   "execution_count": 17,
   "id": "89291a0f",
   "metadata": {},
   "outputs": [],
   "source": [
    "def getNoOfIterations(modelVariables, variableDf, w, c1, c2, noOfParticles, actualSSResiduals, noOfTrials = 10):\n",
    "    noOfIterations = []\n",
    "    for i in range(noOfTrials):\n",
    "        noOfIterations.append(predict(modelVariables, variableDf, w, c1, c2, noOfParticles, actualSSResiduals)['No of Iterations'])\n",
    " \n",
    "    \n",
    "    return noOfIterations"
   ]
  },
  {
   "cell_type": "markdown",
   "id": "a185b03a",
   "metadata": {},
   "source": [
    "### Testing Hypotheis 1"
   ]
  },
  {
   "cell_type": "code",
   "execution_count": 18,
   "id": "b97b3d92",
   "metadata": {},
   "outputs": [],
   "source": [
    "noOfIterations100 = getNoOfIterations(modelVariables, variableDf, 0.5, 0.5, 0.8, 100, 4.2104e+11, 10)\n",
    "noOfIterations500 = getNoOfIterations(modelVariables, variableDf, 0.5, 0.5, 0.8, 500, 4.2104e+11, 10)\n",
    "noOfIterations1000 = getNoOfIterations(modelVariables, variableDf, 0.5, 0.5, 0.8, 1000, 4.2104e+11, 10)"
   ]
  },
  {
   "cell_type": "code",
   "execution_count": 19,
   "id": "3170102a",
   "metadata": {},
   "outputs": [
    {
     "data": {
      "text/plain": [
       "[5, 3, 7, 9, 7, 4, 8, 4, 7, 6]"
      ]
     },
     "execution_count": 19,
     "metadata": {},
     "output_type": "execute_result"
    }
   ],
   "source": [
    "noOfIterations100"
   ]
  },
  {
   "cell_type": "code",
   "execution_count": 20,
   "id": "169c8ad0",
   "metadata": {},
   "outputs": [
    {
     "data": {
      "text/plain": [
       "6.0"
      ]
     },
     "execution_count": 20,
     "metadata": {},
     "output_type": "execute_result"
    }
   ],
   "source": [
    "np.mean(noOfIterations100)"
   ]
  },
  {
   "cell_type": "code",
   "execution_count": 21,
   "id": "4bb2c381",
   "metadata": {},
   "outputs": [
    {
     "data": {
      "text/plain": [
       "[2, 3, 3, 3, 2, 3, 2, 3, 3, 3]"
      ]
     },
     "execution_count": 21,
     "metadata": {},
     "output_type": "execute_result"
    }
   ],
   "source": [
    "noOfIterations500"
   ]
  },
  {
   "cell_type": "code",
   "execution_count": 22,
   "id": "644a64d8",
   "metadata": {},
   "outputs": [
    {
     "data": {
      "text/plain": [
       "2.7"
      ]
     },
     "execution_count": 22,
     "metadata": {},
     "output_type": "execute_result"
    }
   ],
   "source": [
    "np.mean(noOfIterations500)"
   ]
  },
  {
   "cell_type": "code",
   "execution_count": 23,
   "id": "2d25753a",
   "metadata": {},
   "outputs": [
    {
     "data": {
      "text/plain": [
       "[2, 2, 3, 2, 2, 2, 3, 3, 2, 3]"
      ]
     },
     "execution_count": 23,
     "metadata": {},
     "output_type": "execute_result"
    }
   ],
   "source": [
    "noOfIterations1000"
   ]
  },
  {
   "cell_type": "code",
   "execution_count": 24,
   "id": "42816583",
   "metadata": {},
   "outputs": [
    {
     "data": {
      "text/plain": [
       "2.4"
      ]
     },
     "execution_count": 24,
     "metadata": {},
     "output_type": "execute_result"
    }
   ],
   "source": [
    "np.mean(noOfIterations1000)"
   ]
  },
  {
   "cell_type": "code",
   "execution_count": 25,
   "id": "724a3994",
   "metadata": {},
   "outputs": [
    {
     "data": {
      "image/png": "[encoded data removed]",
      "text/plain": [
       "<Figure size 648x360 with 1 Axes>"
      ]
     },
     "metadata": {
      "needs_background": "light"
     },
     "output_type": "display_data"
    }
   ],
   "source": [
    "data = [noOfIterations100, noOfIterations500, noOfIterations1000]\n",
    "fig, ax = plt.subplots(1)\n",
    "ax.set_ylim(ymin=0, ymax=10)\n",
    "ax.boxplot(data)\n",
    "\n",
    "fig.set_size_inches(9, 5)\n",
    "plt.show(fig)"
   ]
  },
  {
   "cell_type": "markdown",
   "id": "f6fe44e0",
   "metadata": {},
   "source": [
    "### Testing Hypotheis 2"
   ]
  },
  {
   "cell_type": "code",
   "execution_count": 26,
   "id": "bd63a41e",
   "metadata": {},
   "outputs": [],
   "source": [
    "def getNoOfAccurateResults(modelVariables, variableDf, w, c1, c2, noOfParticles, actualSSResiduals, noOfTrials = 10):\n",
    "    noOfAccurateResults = 0\n",
    "    \n",
    "    for trial in range(noOfTrials):\n",
    "        globalBestFitness = predict(modelVariables, variableDf, w, c1, c2, noOfParticles)['Global Best Fitness']\n",
    "    \n",
    "        testVal = float(1/globalBestFitness)/actualSSResiduals\n",
    "        if (testVal <= 1.001 and testVal >= 0.999):\n",
    "            noOfAccurateResults = noOfAccurateResults + 1\n",
    "            \n",
    "    return noOfAccurateResults\n",
    "    "
   ]
  }
 ],
 "metadata": {
  "kernelspec": {
   "display_name": "Python 3.8.12 ('base')",
   "language": "python",
   "name": "python3"
  },
  "language_info": {
   "codemirror_mode": {
    "name": "ipython",
    "version": 3
   },
   "file_extension": ".py",
   "mimetype": "text/x-python",
   "name": "python",
   "nbconvert_exporter": "python",
   "pygments_lexer": "ipython3",
   "version": "3.8.12"
  },
  "vscode": {
   "interpreter": {
    "hash": "2ee1e7a8a2d8770125172dea7a3b7455b65ac974814c6ed803e6e34f59f8faca"
   }
  }
 },
 "nbformat": 4,
 "nbformat_minor": 5
}
